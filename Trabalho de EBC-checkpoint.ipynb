{
 "cells": [
  {
   "cell_type": "code",
   "execution_count": 1,
   "metadata": {},
   "outputs": [],
   "source": [
    "import pandas as pd\n",
    "import matplotlib.pyplot as plt\n",
    "import statsmodels.api as sm\n",
    "import statsmodels.formula.api as smf\n",
    "import numpy as np\n",
    "import seaborn as sns\n",
    "from statsmodels.stats.diagnostic import het_white\n",
    "from statsmodels.stats.diagnostic import het_breuschpagan"
   ]
  },
  {
   "cell_type": "code",
   "execution_count": 2,
   "metadata": {},
   "outputs": [],
   "source": [
    "# lendo os dados\n",
    "petr = pd.read_csv(\"WTI_oil_price.csv\")\n",
    "export = pd.read_csv(\"exports_brazil_monthly.csv\")\n",
    "# mudando o nome das colunas\n",
    "export.columns = ['Data', 'Valor_da_Exportacao']\n",
    "petr.columns = ['Data', 'Preco_Petr']"
   ]
  },
  {
   "cell_type": "code",
   "execution_count": 3,
   "metadata": {},
   "outputs": [
    {
     "data": {
      "text/html": [
       "<div>\n",
       "<style scoped>\n",
       "    .dataframe tbody tr th:only-of-type {\n",
       "        vertical-align: middle;\n",
       "    }\n",
       "\n",
       "    .dataframe tbody tr th {\n",
       "        vertical-align: top;\n",
       "    }\n",
       "\n",
       "    .dataframe thead th {\n",
       "        text-align: right;\n",
       "    }\n",
       "</style>\n",
       "<table border=\"1\" class=\"dataframe\">\n",
       "  <thead>\n",
       "    <tr style=\"text-align: right;\">\n",
       "      <th></th>\n",
       "      <th>Data</th>\n",
       "      <th>Preco_Petr</th>\n",
       "    </tr>\n",
       "  </thead>\n",
       "  <tbody>\n",
       "    <tr>\n",
       "      <th>0</th>\n",
       "      <td>1946-01-01</td>\n",
       "      <td>1.17</td>\n",
       "    </tr>\n",
       "    <tr>\n",
       "      <th>1</th>\n",
       "      <td>1946-02-01</td>\n",
       "      <td>1.17</td>\n",
       "    </tr>\n",
       "    <tr>\n",
       "      <th>2</th>\n",
       "      <td>1946-03-01</td>\n",
       "      <td>1.17</td>\n",
       "    </tr>\n",
       "    <tr>\n",
       "      <th>3</th>\n",
       "      <td>1946-04-01</td>\n",
       "      <td>1.27</td>\n",
       "    </tr>\n",
       "    <tr>\n",
       "      <th>4</th>\n",
       "      <td>1946-05-01</td>\n",
       "      <td>1.27</td>\n",
       "    </tr>\n",
       "  </tbody>\n",
       "</table>\n",
       "</div>"
      ],
      "text/plain": [
       "         Data  Preco_Petr\n",
       "0  1946-01-01        1.17\n",
       "1  1946-02-01        1.17\n",
       "2  1946-03-01        1.17\n",
       "3  1946-04-01        1.27\n",
       "4  1946-05-01        1.27"
      ]
     },
     "execution_count": 3,
     "metadata": {},
     "output_type": "execute_result"
    }
   ],
   "source": [
    "# verificando se foram importados de forma correta\n",
    "petr.head()"
   ]
  },
  {
   "cell_type": "code",
   "execution_count": 4,
   "metadata": {},
   "outputs": [
    {
     "data": {
      "text/html": [
       "<div>\n",
       "<style scoped>\n",
       "    .dataframe tbody tr th:only-of-type {\n",
       "        vertical-align: middle;\n",
       "    }\n",
       "\n",
       "    .dataframe tbody tr th {\n",
       "        vertical-align: top;\n",
       "    }\n",
       "\n",
       "    .dataframe thead th {\n",
       "        text-align: right;\n",
       "    }\n",
       "</style>\n",
       "<table border=\"1\" class=\"dataframe\">\n",
       "  <thead>\n",
       "    <tr style=\"text-align: right;\">\n",
       "      <th></th>\n",
       "      <th>Data</th>\n",
       "      <th>Valor_da_Exportacao</th>\n",
       "    </tr>\n",
       "  </thead>\n",
       "  <tbody>\n",
       "    <tr>\n",
       "      <th>0</th>\n",
       "      <td>1964-01-01</td>\n",
       "      <td>1.037689e+08</td>\n",
       "    </tr>\n",
       "    <tr>\n",
       "      <th>1</th>\n",
       "      <td>1964-02-01</td>\n",
       "      <td>1.406579e+08</td>\n",
       "    </tr>\n",
       "    <tr>\n",
       "      <th>2</th>\n",
       "      <td>1964-03-01</td>\n",
       "      <td>1.387506e+08</td>\n",
       "    </tr>\n",
       "    <tr>\n",
       "      <th>3</th>\n",
       "      <td>1964-04-01</td>\n",
       "      <td>1.125241e+08</td>\n",
       "    </tr>\n",
       "    <tr>\n",
       "      <th>4</th>\n",
       "      <td>1964-05-01</td>\n",
       "      <td>9.897805e+07</td>\n",
       "    </tr>\n",
       "  </tbody>\n",
       "</table>\n",
       "</div>"
      ],
      "text/plain": [
       "         Data  Valor_da_Exportacao\n",
       "0  1964-01-01         1.037689e+08\n",
       "1  1964-02-01         1.406579e+08\n",
       "2  1964-03-01         1.387506e+08\n",
       "3  1964-04-01         1.125241e+08\n",
       "4  1964-05-01         9.897805e+07"
      ]
     },
     "execution_count": 4,
     "metadata": {},
     "output_type": "execute_result"
    }
   ],
   "source": [
    "export.head()"
   ]
  },
  {
   "cell_type": "code",
   "execution_count": 5,
   "metadata": {},
   "outputs": [
    {
     "name": "stdout",
     "output_type": "stream",
     "text": [
      "<class 'pandas.core.frame.DataFrame'>\n",
      "RangeIndex: 885 entries, 0 to 884\n",
      "Data columns (total 2 columns):\n",
      "Data          885 non-null datetime64[ns]\n",
      "Preco_Petr    885 non-null float64\n",
      "dtypes: datetime64[ns](1), float64(1)\n",
      "memory usage: 13.9 KB\n"
     ]
    }
   ],
   "source": [
    "# arrumando o tipo da variavel DATE para datetime\n",
    "petr['Data'] = pd.to_datetime(petr['Data'])\n",
    "petr.info()"
   ]
  },
  {
   "cell_type": "code",
   "execution_count": 6,
   "metadata": {},
   "outputs": [
    {
     "name": "stdout",
     "output_type": "stream",
     "text": [
      "<class 'pandas.core.frame.DataFrame'>\n",
      "RangeIndex: 669 entries, 0 to 668\n",
      "Data columns (total 2 columns):\n",
      "Data                   669 non-null datetime64[ns]\n",
      "Valor_da_Exportacao    669 non-null float64\n",
      "dtypes: datetime64[ns](1), float64(1)\n",
      "memory usage: 10.5 KB\n"
     ]
    }
   ],
   "source": [
    "export['Data'] = pd.to_datetime(export['Data'])\n",
    "export.info()"
   ]
  },
  {
   "cell_type": "code",
   "execution_count": 7,
   "metadata": {},
   "outputs": [],
   "source": [
    "# selecionando os dados que são necessários para análise\n",
    "export = export[export['Data'] < '1990-01-01']\n",
    "petr = petr[petr['Data'] < '1990-01-01']\n",
    "petr = petr[petr['Data'] >= '1964-01-01']"
   ]
  },
  {
   "cell_type": "code",
   "execution_count": 8,
   "metadata": {},
   "outputs": [
    {
     "data": {
      "text/html": [
       "<div>\n",
       "<style scoped>\n",
       "    .dataframe tbody tr th:only-of-type {\n",
       "        vertical-align: middle;\n",
       "    }\n",
       "\n",
       "    .dataframe tbody tr th {\n",
       "        vertical-align: top;\n",
       "    }\n",
       "\n",
       "    .dataframe thead th {\n",
       "        text-align: right;\n",
       "    }\n",
       "</style>\n",
       "<table border=\"1\" class=\"dataframe\">\n",
       "  <thead>\n",
       "    <tr style=\"text-align: right;\">\n",
       "      <th></th>\n",
       "      <th>Data</th>\n",
       "      <th>Valor_da_Exportacao</th>\n",
       "      <th>Preco_Petr</th>\n",
       "    </tr>\n",
       "  </thead>\n",
       "  <tbody>\n",
       "    <tr>\n",
       "      <th>0</th>\n",
       "      <td>1964-01-01</td>\n",
       "      <td>1.037689e+08</td>\n",
       "      <td>2.97</td>\n",
       "    </tr>\n",
       "    <tr>\n",
       "      <th>1</th>\n",
       "      <td>1964-02-01</td>\n",
       "      <td>1.406579e+08</td>\n",
       "      <td>2.97</td>\n",
       "    </tr>\n",
       "    <tr>\n",
       "      <th>2</th>\n",
       "      <td>1964-03-01</td>\n",
       "      <td>1.387506e+08</td>\n",
       "      <td>2.97</td>\n",
       "    </tr>\n",
       "    <tr>\n",
       "      <th>3</th>\n",
       "      <td>1964-04-01</td>\n",
       "      <td>1.125241e+08</td>\n",
       "      <td>2.97</td>\n",
       "    </tr>\n",
       "    <tr>\n",
       "      <th>4</th>\n",
       "      <td>1964-05-01</td>\n",
       "      <td>9.897805e+07</td>\n",
       "      <td>2.97</td>\n",
       "    </tr>\n",
       "  </tbody>\n",
       "</table>\n",
       "</div>"
      ],
      "text/plain": [
       "        Data  Valor_da_Exportacao  Preco_Petr\n",
       "0 1964-01-01         1.037689e+08        2.97\n",
       "1 1964-02-01         1.406579e+08        2.97\n",
       "2 1964-03-01         1.387506e+08        2.97\n",
       "3 1964-04-01         1.125241e+08        2.97\n",
       "4 1964-05-01         9.897805e+07        2.97"
      ]
     },
     "execution_count": 8,
     "metadata": {},
     "output_type": "execute_result"
    }
   ],
   "source": [
    "# juntando os dois data frames\n",
    "dados = export.merge(petr)\n",
    "dados.head()"
   ]
  },
  {
   "cell_type": "code",
   "execution_count": 9,
   "metadata": {},
   "outputs": [
    {
     "data": {
      "text/html": [
       "<table class=\"simpletable\">\n",
       "<caption>OLS Regression Results</caption>\n",
       "<tr>\n",
       "  <th>Dep. Variable:</th>    <td>np.log(Valor_da_Exportacao)</td> <th>  R-squared:         </th> <td>   0.670</td>\n",
       "</tr>\n",
       "<tr>\n",
       "  <th>Model:</th>                        <td>OLS</td>             <th>  Adj. R-squared:    </th> <td>   0.669</td>\n",
       "</tr>\n",
       "<tr>\n",
       "  <th>Method:</th>                  <td>Least Squares</td>        <th>  F-statistic:       </th> <td>   630.1</td>\n",
       "</tr>\n",
       "<tr>\n",
       "  <th>Date:</th>                  <td>Mon, 28 Oct 2019</td>       <th>  Prob (F-statistic):</th> <td>1.15e-76</td>\n",
       "</tr>\n",
       "<tr>\n",
       "  <th>Time:</th>                      <td>21:01:32</td>           <th>  Log-Likelihood:    </th> <td> -299.48</td>\n",
       "</tr>\n",
       "<tr>\n",
       "  <th>No. Observations:</th>           <td>   312</td>            <th>  AIC:               </th> <td>   603.0</td>\n",
       "</tr>\n",
       "<tr>\n",
       "  <th>Df Residuals:</th>               <td>   310</td>            <th>  BIC:               </th> <td>   610.4</td>\n",
       "</tr>\n",
       "<tr>\n",
       "  <th>Df Model:</th>                   <td>     1</td>            <th>                     </th>     <td> </td>   \n",
       "</tr>\n",
       "<tr>\n",
       "  <th>Covariance Type:</th>           <td>nonrobust</td>          <th>                     </th>     <td> </td>   \n",
       "</tr>\n",
       "</table>\n",
       "<table class=\"simpletable\">\n",
       "<tr>\n",
       "       <td></td>         <th>coef</th>     <th>std err</th>      <th>t</th>      <th>P>|t|</th>  <th>[0.025</th>    <th>0.975]</th>  \n",
       "</tr>\n",
       "<tr>\n",
       "  <th>Intercept</th>  <td>   19.2059</td> <td>    0.058</td> <td>  331.231</td> <td> 0.000</td> <td>   19.092</td> <td>   19.320</td>\n",
       "</tr>\n",
       "<tr>\n",
       "  <th>Preco_Petr</th> <td>    0.0775</td> <td>    0.003</td> <td>   25.102</td> <td> 0.000</td> <td>    0.071</td> <td>    0.084</td>\n",
       "</tr>\n",
       "</table>\n",
       "<table class=\"simpletable\">\n",
       "<tr>\n",
       "  <th>Omnibus:</th>       <td>22.337</td> <th>  Durbin-Watson:     </th> <td>   0.053</td>\n",
       "</tr>\n",
       "<tr>\n",
       "  <th>Prob(Omnibus):</th> <td> 0.000</td> <th>  Jarque-Bera (JB):  </th> <td>  12.831</td>\n",
       "</tr>\n",
       "<tr>\n",
       "  <th>Skew:</th>          <td> 0.339</td> <th>  Prob(JB):          </th> <td> 0.00164</td>\n",
       "</tr>\n",
       "<tr>\n",
       "  <th>Kurtosis:</th>      <td> 2.273</td> <th>  Cond. No.          </th> <td>    30.4</td>\n",
       "</tr>\n",
       "</table><br/><br/>Warnings:<br/>[1] Standard Errors assume that the covariance matrix of the errors is correctly specified."
      ],
      "text/plain": [
       "<class 'statsmodels.iolib.summary.Summary'>\n",
       "\"\"\"\n",
       "                                 OLS Regression Results                                \n",
       "=======================================================================================\n",
       "Dep. Variable:     np.log(Valor_da_Exportacao)   R-squared:                       0.670\n",
       "Model:                                     OLS   Adj. R-squared:                  0.669\n",
       "Method:                          Least Squares   F-statistic:                     630.1\n",
       "Date:                         Mon, 28 Oct 2019   Prob (F-statistic):           1.15e-76\n",
       "Time:                                 21:01:32   Log-Likelihood:                -299.48\n",
       "No. Observations:                          312   AIC:                             603.0\n",
       "Df Residuals:                              310   BIC:                             610.4\n",
       "Df Model:                                    1                                         \n",
       "Covariance Type:                     nonrobust                                         \n",
       "==============================================================================\n",
       "                 coef    std err          t      P>|t|      [0.025      0.975]\n",
       "------------------------------------------------------------------------------\n",
       "Intercept     19.2059      0.058    331.231      0.000      19.092      19.320\n",
       "Preco_Petr     0.0775      0.003     25.102      0.000       0.071       0.084\n",
       "==============================================================================\n",
       "Omnibus:                       22.337   Durbin-Watson:                   0.053\n",
       "Prob(Omnibus):                  0.000   Jarque-Bera (JB):               12.831\n",
       "Skew:                           0.339   Prob(JB):                      0.00164\n",
       "Kurtosis:                       2.273   Cond. No.                         30.4\n",
       "==============================================================================\n",
       "\n",
       "Warnings:\n",
       "[1] Standard Errors assume that the covariance matrix of the errors is correctly specified.\n",
       "\"\"\""
      ]
     },
     "execution_count": 9,
     "metadata": {},
     "output_type": "execute_result"
    }
   ],
   "source": [
    "# Agora podemos iniciar a regressão\n",
    "# Como os dados de exportação tem valores muito altos, é usado uma regressão utilizando logaritmo para que a interpretação\n",
    "# dos coeficiente fique mais fácil\n",
    "reg = smf.ols('np.log(Valor_da_Exportacao) ~ Preco_Petr', data=dados).fit()\n",
    "reg.summary()"
   ]
  },
  {
   "cell_type": "code",
   "execution_count": 10,
   "metadata": {},
   "outputs": [
    {
     "data": {
      "text/plain": [
       "Text(0.5, 1, 'Plot da Regressão')"
      ]
     },
     "execution_count": 10,
     "metadata": {},
     "output_type": "execute_result"
    },
    {
     "data": {
      "image/png": "[encoded data removed]",
      "text/plain": [
       "<Figure size 360x360 with 1 Axes>"
      ]
     },
     "metadata": {},
     "output_type": "display_data"
    }
   ],
   "source": [
    "# plotando a regressão\n",
    "sns.set()\n",
    "sns.lmplot(x='Preco_Petr', y='Valor_da_Exportacao', data=dados)\n",
    "plt.title('Plot da Regressão')"
   ]
  },
  {
   "cell_type": "code",
   "execution_count": 11,
   "metadata": {},
   "outputs": [
    {
     "data": {
      "text/plain": [
       "Text(0.5, 1.0, 'Plot dos Resíduos')"
      ]
     },
     "execution_count": 11,
     "metadata": {},
     "output_type": "execute_result"
    },
    {
     "data": {
      "image/png": "[encoded data removed]",
      "text/plain": [
       "<Figure size 432x288 with 1 Axes>"
      ]
     },
     "metadata": {},
     "output_type": "display_data"
    }
   ],
   "source": [
    "# verificando os residuos para analisar se há heterocedasticidade\n",
    "sns.residplot(dados['Preco_Petr'], dados['Valor_da_Exportacao'])\n",
    "plt.title('Plot dos Resíduos')"
   ]
  },
  {
   "cell_type": "code",
   "execution_count": 12,
   "metadata": {},
   "outputs": [
    {
     "data": {
      "text/html": [
       "<div>\n",
       "<style scoped>\n",
       "    .dataframe tbody tr th:only-of-type {\n",
       "        vertical-align: middle;\n",
       "    }\n",
       "\n",
       "    .dataframe tbody tr th {\n",
       "        vertical-align: top;\n",
       "    }\n",
       "\n",
       "    .dataframe thead th {\n",
       "        text-align: right;\n",
       "    }\n",
       "</style>\n",
       "<table border=\"1\" class=\"dataframe\">\n",
       "  <thead>\n",
       "    <tr style=\"text-align: right;\">\n",
       "      <th></th>\n",
       "      <th>Data</th>\n",
       "      <th>Valor_da_Exportacao</th>\n",
       "      <th>Preco_Petr</th>\n",
       "    </tr>\n",
       "  </thead>\n",
       "  <tbody>\n",
       "    <tr>\n",
       "      <th>120</th>\n",
       "      <td>1974-01-01</td>\n",
       "      <td>5.358789e+08</td>\n",
       "      <td>10.11</td>\n",
       "    </tr>\n",
       "    <tr>\n",
       "      <th>121</th>\n",
       "      <td>1974-02-01</td>\n",
       "      <td>5.762268e+08</td>\n",
       "      <td>10.11</td>\n",
       "    </tr>\n",
       "    <tr>\n",
       "      <th>122</th>\n",
       "      <td>1974-03-01</td>\n",
       "      <td>5.688100e+08</td>\n",
       "      <td>10.11</td>\n",
       "    </tr>\n",
       "  </tbody>\n",
       "</table>\n",
       "</div>"
      ],
      "text/plain": [
       "          Data  Valor_da_Exportacao  Preco_Petr\n",
       "120 1974-01-01         5.358789e+08       10.11\n",
       "121 1974-02-01         5.762268e+08       10.11\n",
       "122 1974-03-01         5.688100e+08       10.11"
      ]
     },
     "execution_count": 12,
     "metadata": {},
     "output_type": "execute_result"
    }
   ],
   "source": [
    "# Como é possível ver, há um salto de preço do pretróleo de 5 para 10. Isso se muito provavelmente se deve ao choque o petróleo\n",
    "# ocorrido em 1973. Podemos verificar em quais datas há um preço maior do que 10:\n",
    "dados[dados['Preco_Petr'] > 9][0:3]"
   ]
  },
  {
   "cell_type": "code",
   "execution_count": 13,
   "metadata": {},
   "outputs": [
    {
     "data": {
      "text/html": [
       "<table class=\"simpletable\">\n",
       "<caption>OLS Regression Results</caption>\n",
       "<tr>\n",
       "  <th>Dep. Variable:</th>    <td>np.log(Valor_da_Exportacao)</td> <th>  R-squared:         </th> <td>   0.257</td>\n",
       "</tr>\n",
       "<tr>\n",
       "  <th>Model:</th>                        <td>OLS</td>             <th>  Adj. R-squared:    </th> <td>   0.253</td>\n",
       "</tr>\n",
       "<tr>\n",
       "  <th>Method:</th>                  <td>Least Squares</td>        <th>  F-statistic:       </th> <td>   65.82</td>\n",
       "</tr>\n",
       "<tr>\n",
       "  <th>Date:</th>                  <td>Mon, 28 Oct 2019</td>       <th>  Prob (F-statistic):</th> <td>6.00e-14</td>\n",
       "</tr>\n",
       "<tr>\n",
       "  <th>Time:</th>                      <td>21:01:35</td>           <th>  Log-Likelihood:    </th> <td> -97.718</td>\n",
       "</tr>\n",
       "<tr>\n",
       "  <th>No. Observations:</th>           <td>   192</td>            <th>  AIC:               </th> <td>   199.4</td>\n",
       "</tr>\n",
       "<tr>\n",
       "  <th>Df Residuals:</th>               <td>   190</td>            <th>  BIC:               </th> <td>   206.0</td>\n",
       "</tr>\n",
       "<tr>\n",
       "  <th>Df Model:</th>                   <td>     1</td>            <th>                     </th>     <td> </td>   \n",
       "</tr>\n",
       "<tr>\n",
       "  <th>Covariance Type:</th>           <td>nonrobust</td>          <th>                     </th>     <td> </td>   \n",
       "</tr>\n",
       "</table>\n",
       "<table class=\"simpletable\">\n",
       "<tr>\n",
       "       <td></td>         <th>coef</th>     <th>std err</th>      <th>t</th>      <th>P>|t|</th>  <th>[0.025</th>    <th>0.975]</th>  \n",
       "</tr>\n",
       "<tr>\n",
       "  <th>Intercept</th>  <td>   20.5755</td> <td>    0.075</td> <td>  273.376</td> <td> 0.000</td> <td>   20.427</td> <td>   20.724</td>\n",
       "</tr>\n",
       "<tr>\n",
       "  <th>Preco_Petr</th> <td>    0.0257</td> <td>    0.003</td> <td>    8.113</td> <td> 0.000</td> <td>    0.019</td> <td>    0.032</td>\n",
       "</tr>\n",
       "</table>\n",
       "<table class=\"simpletable\">\n",
       "<tr>\n",
       "  <th>Omnibus:</th>       <td>12.882</td> <th>  Durbin-Watson:     </th> <td>   0.057</td>\n",
       "</tr>\n",
       "<tr>\n",
       "  <th>Prob(Omnibus):</th> <td> 0.002</td> <th>  Jarque-Bera (JB):  </th> <td>  11.609</td>\n",
       "</tr>\n",
       "<tr>\n",
       "  <th>Skew:</th>          <td> 0.531</td> <th>  Prob(JB):          </th> <td> 0.00301</td>\n",
       "</tr>\n",
       "<tr>\n",
       "  <th>Kurtosis:</th>      <td> 2.431</td> <th>  Cond. No.          </th> <td>    61.4</td>\n",
       "</tr>\n",
       "</table><br/><br/>Warnings:<br/>[1] Standard Errors assume that the covariance matrix of the errors is correctly specified."
      ],
      "text/plain": [
       "<class 'statsmodels.iolib.summary.Summary'>\n",
       "\"\"\"\n",
       "                                 OLS Regression Results                                \n",
       "=======================================================================================\n",
       "Dep. Variable:     np.log(Valor_da_Exportacao)   R-squared:                       0.257\n",
       "Model:                                     OLS   Adj. R-squared:                  0.253\n",
       "Method:                          Least Squares   F-statistic:                     65.82\n",
       "Date:                         Mon, 28 Oct 2019   Prob (F-statistic):           6.00e-14\n",
       "Time:                                 21:01:35   Log-Likelihood:                -97.718\n",
       "No. Observations:                          192   AIC:                             199.4\n",
       "Df Residuals:                              190   BIC:                             206.0\n",
       "Df Model:                                    1                                         \n",
       "Covariance Type:                     nonrobust                                         \n",
       "==============================================================================\n",
       "                 coef    std err          t      P>|t|      [0.025      0.975]\n",
       "------------------------------------------------------------------------------\n",
       "Intercept     20.5755      0.075    273.376      0.000      20.427      20.724\n",
       "Preco_Petr     0.0257      0.003      8.113      0.000       0.019       0.032\n",
       "==============================================================================\n",
       "Omnibus:                       12.882   Durbin-Watson:                   0.057\n",
       "Prob(Omnibus):                  0.002   Jarque-Bera (JB):               11.609\n",
       "Skew:                           0.531   Prob(JB):                      0.00301\n",
       "Kurtosis:                       2.431   Cond. No.                         61.4\n",
       "==============================================================================\n",
       "\n",
       "Warnings:\n",
       "[1] Standard Errors assume that the covariance matrix of the errors is correctly specified.\n",
       "\"\"\""
      ]
     },
     "execution_count": 13,
     "metadata": {},
     "output_type": "execute_result"
    }
   ],
   "source": [
    "# Dessa forma, esse salto dos preços fez com que a regressão não ficasse tão boa de acordo com nossos dados.\n",
    "# Podemos realizar uma regressão depois desse aumento para verificar se há muita diferença:\n",
    "dados1974 = dados[dados['Preco_Petr'] > 9]\n",
    "reg2 = smf.ols(\"np.log(Valor_da_Exportacao) ~ Preco_Petr\", data=dados1974).fit()\n",
    "reg2.summary()"
   ]
  },
  {
   "cell_type": "code",
   "execution_count": 14,
   "metadata": {},
   "outputs": [
    {
     "data": {
      "text/plain": [
       "Text(0.5, 1, 'Regressão c/ dados após o choque do petróleo')"
      ]
     },
     "execution_count": 14,
     "metadata": {},
     "output_type": "execute_result"
    },
    {
     "data": {
      "image/png": "[encoded data removed]",
      "text/plain": [
       "<Figure size 360x360 with 1 Axes>"
      ]
     },
     "metadata": {},
     "output_type": "display_data"
    }
   ],
   "source": [
    "sns.lmplot(x='Preco_Petr', y=\"Valor_da_Exportacao\", data=dados1974)\n",
    "plt.title(\"Regressão c/ dados após o choque do petróleo\")"
   ]
  },
  {
   "cell_type": "code",
   "execution_count": 15,
   "metadata": {
    "scrolled": true
   },
   "outputs": [
    {
     "data": {
      "text/plain": [
       "Text(0.5, 1.0, 'Novo plot dos resíduos')"
      ]
     },
     "execution_count": 15,
     "metadata": {},
     "output_type": "execute_result"
    },
    {
     "data": {
      "image/png": "[encoded data removed]",
      "text/plain": [
       "<Figure size 432x288 with 1 Axes>"
      ]
     },
     "metadata": {},
     "output_type": "display_data"
    }
   ],
   "source": [
    "# fazendo um novo plot dos residuos\n",
    "sns.residplot(dados1974['Preco_Petr'], dados1974['Valor_da_Exportacao'])\n",
    "plt.title(\"Novo plot dos resíduos\")"
   ]
  },
  {
   "cell_type": "code",
   "execution_count": 16,
   "metadata": {},
   "outputs": [
    {
     "data": {
      "text/plain": [
       "{'LM Statistic': 3.872879988992776,\n",
       " 'LM-Test p-value': 0.14421644833738045,\n",
       " 'F-Statistic': 1.9419256515882473,\n",
       " 'F-Test p-value': 0.14517391616999814}"
      ]
     },
     "execution_count": 16,
     "metadata": {},
     "output_type": "execute_result"
    }
   ],
   "source": [
    "# para ter certeza sobre a heterocedasticidade do modelo, podemos utilizar um teste de white:\n",
    "teste_white_1 = het_white(reg.resid, reg.model.exog)\n",
    "nomes = ['LM Statistic', 'LM-Test p-value', 'F-Statistic', 'F-Test p-value']\n",
    "dict(zip(nomes, teste_white_1))"
   ]
  },
  {
   "cell_type": "code",
   "execution_count": 17,
   "metadata": {},
   "outputs": [
    {
     "data": {
      "text/plain": [
       "{'LM Statistic': 33.109557918636874,\n",
       " 'LM-Test p-value': 6.461760375593744e-08,\n",
       " 'F-Statistic': 19.691890728763855,\n",
       " 'F-Test p-value': 1.705192728188455e-08}"
      ]
     },
     "execution_count": 17,
     "metadata": {},
     "output_type": "execute_result"
    }
   ],
   "source": [
    "teste_white_2 = het_white(reg2.resid, reg2.model.exog)\n",
    "nomes = ['LM Statistic', 'LM-Test p-value', 'F-Statistic', 'F-Test p-value']\n",
    "dict(zip(nomes, teste_white_2))"
   ]
  },
  {
   "cell_type": "code",
   "execution_count": 21,
   "metadata": {},
   "outputs": [
    {
     "data": {
      "text/plain": [
       "{'LM Statistic': 1.3156703468844766,\n",
       " 'LM-Test p-value': 0.2513705687770989,\n",
       " 'F-Statistic': 1.3127723821460953,\n",
       " 'F-Test p-value': 0.2527770161668116}"
      ]
     },
     "execution_count": 21,
     "metadata": {},
     "output_type": "execute_result"
    }
   ],
   "source": [
    "# teste de breusch-pagan\n",
    "teste_breusch_pagan1 = het_breuschpagan(reg.resid, reg.model.exog)\n",
    "teste_breusch_pagan2 = het_breuschpagan(reg2.resid, reg2.model.exog)\n",
    "dict(zip(nomes, teste_breusch_pagan1))"
   ]
  },
  {
   "cell_type": "code",
   "execution_count": 22,
   "metadata": {},
   "outputs": [
    {
     "data": {
      "text/plain": [
       "{'LM Statistic': 33.00778941441177,\n",
       " 'LM-Test p-value': 9.179038015599881e-09,\n",
       " 'F-Statistic': 39.44520279100208,\n",
       " 'F-Test p-value': 2.2445669647184553e-09}"
      ]
     },
     "execution_count": 22,
     "metadata": {},
     "output_type": "execute_result"
    }
   ],
   "source": [
    "dict(zip(nomes, teste_breusch_pagan2))"
   ]
  },
  {
   "cell_type": "code",
   "execution_count": null,
   "metadata": {},
   "outputs": [],
   "source": []
  }
 ],
 "metadata": {
  "kernelspec": {
   "display_name": "Python 3",
   "language": "python",
   "name": "python3"
  },
  "language_info": {
   "codemirror_mode": {
    "name": "ipython",
    "version": 3
   },
   "file_extension": ".py",
   "mimetype": "text/x-python",
   "name": "python",
   "nbconvert_exporter": "python",
   "pygments_lexer": "ipython3",
   "version": "3.7.4"
  }
 },
 "nbformat": 4,
 "nbformat_minor": 2
}
